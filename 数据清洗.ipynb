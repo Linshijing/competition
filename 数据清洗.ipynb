{
 "cells": [
  {
   "cell_type": "code",
   "execution_count": 46,
   "metadata": {},
   "outputs": [],
   "source": [
    "import pandas as pd\n",
    "import numpy as np\n",
    "import datetime\n",
    "from scipy.stats import kurtosis, skew, entropy\n",
    "from scipy.fft import fft\n",
    "\n",
    "from sklearn.model_selection import train_test_split\n",
    "from sklearn.ensemble import RandomForestClassifier\n",
    "from sklearn.metrics import accuracy_score\n",
    "from sklearn.preprocessing import MinMaxScaler\n",
    "from sklearn.metrics import classification_report"
   ]
  },
  {
   "cell_type": "code",
   "execution_count": 3,
   "metadata": {},
   "outputs": [],
   "source": [
    "df_train= pd.read_excel('../trainData.xlsx',engine='openpyxl')"
   ]
  },
  {
   "cell_type": "code",
   "execution_count": 20,
   "metadata": {},
   "outputs": [],
   "source": [
    "def getTimeStatic(signal):\n",
    "\n",
    "    # 假设你的振动信号数组为signal，每一行代表一个样本\n",
    "    # signal是一个二维数组，每一行包含多个振动信号的数据\n",
    "\n",
    "    mean_values = np.mean(signal, axis=1)  # 计算每个样本的均值\n",
    "    max_values = np.max(signal, axis=1)  # 计算每个样本的最大值\n",
    "    min_values = np.min(signal, axis=1)  # 计算每个样本的最小值\n",
    "\n",
    "\n",
    "    # 计算每个样本的均方根RMS\n",
    "    rms = np.sqrt(np.mean(signal**2, axis=1))\n",
    "\n",
    "    # 计算每个样本的方差Var\n",
    "    var = np.var(signal, axis=1)\n",
    "\n",
    "    # 计算每个样本的峰值PvT\n",
    "    pvt = np.max(np.abs(signal), axis=1)\n",
    "\n",
    "    # 计算每个样本的峭度指标K\n",
    "    kurt = kurtosis(signal, axis=1)\n",
    "\n",
    "    # 计算每个样本的裕度指标L\n",
    "    l = pvt / rms\n",
    "\n",
    "    # 计算每个样本的脉冲指标I\n",
    "    i = np.max(np.abs(signal[:, 1:] - signal[:, :-1]), axis=1)\n",
    "\n",
    "    # 计算每个样本的线积分LI\n",
    "    li = np.sum(np.abs(signal), axis=1)\n",
    "\n",
    "    # 计算每个样本的峰峰值PP\n",
    "    pp = np.max(signal, axis=1) - np.min(signal, axis=1)\n",
    "\n",
    "    # 计算每个样本的信息熵Ent\n",
    "    ent = entropy(signal, axis=1)\n",
    "\n",
    "    # 计算每个样本的峰值指标C\n",
    "    c = pvt / pp\n",
    "\n",
    "    # 计算每个样本的波形指标W\n",
    "    w = rms / pp\n",
    "\n",
    "    # 计算每个样本的偏斜度指标S\n",
    "    s = skew(signal, axis=1)\n",
    "\n",
    "\n",
    "\n",
    "    # 计算频谱\n",
    "    freq_spectrum = np.abs(fft(signal))\n",
    "\n",
    "    # 计算频谱峰值PvF\n",
    "    pvf = np.max(freq_spectrum, axis=1)\n",
    "\n",
    "    # 计算频谱能量En\n",
    "    en = np.sum(freq_spectrum**2, axis=1)\n",
    "\n",
    "    # 计算功率谱能量PSD\n",
    "    psd = en / len(signal[0])\n",
    "\n",
    "\n",
    "    features = np.column_stack((mean_values, max_values, \n",
    "                                min_values, rms, var, \n",
    "                                pvt, kurt, l,i,li,pp,ent,c,w,s,pvf,en,psd))\n",
    "    \n",
    "    return features\n"
   ]
  },
  {
   "cell_type": "code",
   "execution_count": 21,
   "metadata": {},
   "outputs": [],
   "source": [
    "train_data= getTimeStatic(df_train.iloc[:,0:4096].values)\n",
    "df_train_=pd.DataFrame(data=train_data,columns=['mean_values', 'max_values','min_values', 'rms', 'var', 'pvt', 'kurt', 'l','i','li','pp','ent','c','w','s','pvf','en','psd'])"
   ]
  },
  {
   "cell_type": "code",
   "execution_count": 22,
   "metadata": {},
   "outputs": [],
   "source": [
    "df_train_clear=pd.merge(left=df_train,right=df_train_,left_index=True,right_index=True,how='inner')"
   ]
  },
  {
   "cell_type": "code",
   "execution_count": 23,
   "metadata": {},
   "outputs": [],
   "source": [
    "df_train_factor=df_train_clear[['mean_values', 'max_values','min_values', 'rms', 'var', 'pvt', 'kurt', 'l','i','li','pp','ent','c','w','s','pvf','en','psd','ladle']]"
   ]
  },
  {
   "cell_type": "code",
   "execution_count": 56,
   "metadata": {},
   "outputs": [],
   "source": [
    "df_train_factor.to_excel('./data/train_new_factor.xlsx',index=False)"
   ]
  },
  {
   "cell_type": "code",
   "execution_count": 31,
   "metadata": {},
   "outputs": [
    {
     "data": {
      "text/html": [
       "<div>\n",
       "<style scoped>\n",
       "    .dataframe tbody tr th:only-of-type {\n",
       "        vertical-align: middle;\n",
       "    }\n",
       "\n",
       "    .dataframe tbody tr th {\n",
       "        vertical-align: top;\n",
       "    }\n",
       "\n",
       "    .dataframe thead th {\n",
       "        text-align: right;\n",
       "    }\n",
       "</style>\n",
       "<table border=\"1\" class=\"dataframe\">\n",
       "  <thead>\n",
       "    <tr style=\"text-align: right;\">\n",
       "      <th></th>\n",
       "      <th>mean_values</th>\n",
       "      <th>max_values</th>\n",
       "      <th>min_values</th>\n",
       "      <th>rms</th>\n",
       "      <th>var</th>\n",
       "      <th>pvt</th>\n",
       "      <th>kurt</th>\n",
       "      <th>l</th>\n",
       "      <th>i</th>\n",
       "      <th>li</th>\n",
       "      <th>pp</th>\n",
       "      <th>ent</th>\n",
       "      <th>c</th>\n",
       "      <th>w</th>\n",
       "      <th>s</th>\n",
       "      <th>pvf</th>\n",
       "      <th>en</th>\n",
       "      <th>psd</th>\n",
       "      <th>ladle</th>\n",
       "    </tr>\n",
       "  </thead>\n",
       "  <tbody>\n",
       "    <tr>\n",
       "      <th>count</th>\n",
       "      <td>4000.000000</td>\n",
       "      <td>4000.000000</td>\n",
       "      <td>4000.000000</td>\n",
       "      <td>4000.000000</td>\n",
       "      <td>4000.000000</td>\n",
       "      <td>4000.000000</td>\n",
       "      <td>4000.000000</td>\n",
       "      <td>4000.000000</td>\n",
       "      <td>4000.000000</td>\n",
       "      <td>4000.000000</td>\n",
       "      <td>4000.000000</td>\n",
       "      <td>4000.0</td>\n",
       "      <td>4000.000000</td>\n",
       "      <td>4000.000000</td>\n",
       "      <td>4000.000000</td>\n",
       "      <td>4000.000000</td>\n",
       "      <td>4.000000e+03</td>\n",
       "      <td>4000.000000</td>\n",
       "      <td>4000.000000</td>\n",
       "    </tr>\n",
       "    <tr>\n",
       "      <th>mean</th>\n",
       "      <td>0.000672</td>\n",
       "      <td>5.638520</td>\n",
       "      <td>-5.617513</td>\n",
       "      <td>1.337839</td>\n",
       "      <td>1.784738</td>\n",
       "      <td>5.915109</td>\n",
       "      <td>0.930774</td>\n",
       "      <td>4.410312</td>\n",
       "      <td>5.129754</td>\n",
       "      <td>4263.870395</td>\n",
       "      <td>11.256033</td>\n",
       "      <td>-inf</td>\n",
       "      <td>0.525526</td>\n",
       "      <td>0.124216</td>\n",
       "      <td>-0.011612</td>\n",
       "      <td>1006.224766</td>\n",
       "      <td>3.011525e+07</td>\n",
       "      <td>7352.356691</td>\n",
       "      <td>1.500000</td>\n",
       "    </tr>\n",
       "    <tr>\n",
       "      <th>std</th>\n",
       "      <td>0.101355</td>\n",
       "      <td>1.423099</td>\n",
       "      <td>1.479109</td>\n",
       "      <td>0.072100</td>\n",
       "      <td>0.204146</td>\n",
       "      <td>1.487993</td>\n",
       "      <td>1.622169</td>\n",
       "      <td>1.014022</td>\n",
       "      <td>0.507644</td>\n",
       "      <td>233.508449</td>\n",
       "      <td>2.803412</td>\n",
       "      <td>NaN</td>\n",
       "      <td>0.020292</td>\n",
       "      <td>0.022874</td>\n",
       "      <td>0.066601</td>\n",
       "      <td>346.097349</td>\n",
       "      <td>3.374455e+06</td>\n",
       "      <td>823.841469</td>\n",
       "      <td>1.118174</td>\n",
       "    </tr>\n",
       "    <tr>\n",
       "      <th>min</th>\n",
       "      <td>-0.560504</td>\n",
       "      <td>3.425431</td>\n",
       "      <td>-12.686618</td>\n",
       "      <td>1.064932</td>\n",
       "      <td>1.133889</td>\n",
       "      <td>3.486932</td>\n",
       "      <td>-0.300155</td>\n",
       "      <td>3.104751</td>\n",
       "      <td>4.025960</td>\n",
       "      <td>3481.018359</td>\n",
       "      <td>6.946753</td>\n",
       "      <td>-inf</td>\n",
       "      <td>0.500020</td>\n",
       "      <td>0.057783</td>\n",
       "      <td>-0.521955</td>\n",
       "      <td>353.920832</td>\n",
       "      <td>1.902672e+07</td>\n",
       "      <td>4645.195069</td>\n",
       "      <td>0.000000</td>\n",
       "    </tr>\n",
       "    <tr>\n",
       "      <th>25%</th>\n",
       "      <td>-0.014098</td>\n",
       "      <td>4.644441</td>\n",
       "      <td>-5.997659</td>\n",
       "      <td>1.310251</td>\n",
       "      <td>1.703979</td>\n",
       "      <td>4.858355</td>\n",
       "      <td>-0.042563</td>\n",
       "      <td>3.682190</td>\n",
       "      <td>4.765914</td>\n",
       "      <td>4156.754750</td>\n",
       "      <td>9.334201</td>\n",
       "      <td>-inf</td>\n",
       "      <td>0.509511</td>\n",
       "      <td>0.110620</td>\n",
       "      <td>-0.040097</td>\n",
       "      <td>739.166778</td>\n",
       "      <td>2.880240e+07</td>\n",
       "      <td>7031.835044</td>\n",
       "      <td>0.750000</td>\n",
       "    </tr>\n",
       "    <tr>\n",
       "      <th>50%</th>\n",
       "      <td>0.000396</td>\n",
       "      <td>5.236086</td>\n",
       "      <td>-5.104036</td>\n",
       "      <td>1.337927</td>\n",
       "      <td>1.783007</td>\n",
       "      <td>5.423355</td>\n",
       "      <td>0.177156</td>\n",
       "      <td>4.092597</td>\n",
       "      <td>5.051141</td>\n",
       "      <td>4285.034782</td>\n",
       "      <td>10.244030</td>\n",
       "      <td>-inf</td>\n",
       "      <td>0.520910</td>\n",
       "      <td>0.129255</td>\n",
       "      <td>-0.006344</td>\n",
       "      <td>920.161462</td>\n",
       "      <td>3.003203e+07</td>\n",
       "      <td>7332.037403</td>\n",
       "      <td>1.500000</td>\n",
       "    </tr>\n",
       "    <tr>\n",
       "      <th>75%</th>\n",
       "      <td>0.014645</td>\n",
       "      <td>6.170663</td>\n",
       "      <td>-4.647220</td>\n",
       "      <td>1.363356</td>\n",
       "      <td>1.851111</td>\n",
       "      <td>6.276171</td>\n",
       "      <td>1.131272</td>\n",
       "      <td>4.749281</td>\n",
       "      <td>5.407983</td>\n",
       "      <td>4402.727007</td>\n",
       "      <td>11.963292</td>\n",
       "      <td>-inf</td>\n",
       "      <td>0.536228</td>\n",
       "      <td>0.142443</td>\n",
       "      <td>0.026309</td>\n",
       "      <td>1334.807355</td>\n",
       "      <td>3.118449e+07</td>\n",
       "      <td>7613.400571</td>\n",
       "      <td>2.250000</td>\n",
       "    </tr>\n",
       "    <tr>\n",
       "      <th>max</th>\n",
       "      <td>0.636499</td>\n",
       "      <td>12.128032</td>\n",
       "      <td>-3.433436</td>\n",
       "      <td>1.868179</td>\n",
       "      <td>3.489590</td>\n",
       "      <td>12.686618</td>\n",
       "      <td>11.812487</td>\n",
       "      <td>8.847865</td>\n",
       "      <td>7.965467</td>\n",
       "      <td>6081.322075</td>\n",
       "      <td>24.814650</td>\n",
       "      <td>-inf</td>\n",
       "      <td>0.609122</td>\n",
       "      <td>0.167218</td>\n",
       "      <td>0.240148</td>\n",
       "      <td>2607.100136</td>\n",
       "      <td>5.855403e+07</td>\n",
       "      <td>14295.418154</td>\n",
       "      <td>3.000000</td>\n",
       "    </tr>\n",
       "  </tbody>\n",
       "</table>\n",
       "</div>"
      ],
      "text/plain": [
       "       mean_values   max_values   min_values          rms          var  \\\n",
       "count  4000.000000  4000.000000  4000.000000  4000.000000  4000.000000   \n",
       "mean      0.000672     5.638520    -5.617513     1.337839     1.784738   \n",
       "std       0.101355     1.423099     1.479109     0.072100     0.204146   \n",
       "min      -0.560504     3.425431   -12.686618     1.064932     1.133889   \n",
       "25%      -0.014098     4.644441    -5.997659     1.310251     1.703979   \n",
       "50%       0.000396     5.236086    -5.104036     1.337927     1.783007   \n",
       "75%       0.014645     6.170663    -4.647220     1.363356     1.851111   \n",
       "max       0.636499    12.128032    -3.433436     1.868179     3.489590   \n",
       "\n",
       "               pvt         kurt            l            i           li  \\\n",
       "count  4000.000000  4000.000000  4000.000000  4000.000000  4000.000000   \n",
       "mean      5.915109     0.930774     4.410312     5.129754  4263.870395   \n",
       "std       1.487993     1.622169     1.014022     0.507644   233.508449   \n",
       "min       3.486932    -0.300155     3.104751     4.025960  3481.018359   \n",
       "25%       4.858355    -0.042563     3.682190     4.765914  4156.754750   \n",
       "50%       5.423355     0.177156     4.092597     5.051141  4285.034782   \n",
       "75%       6.276171     1.131272     4.749281     5.407983  4402.727007   \n",
       "max      12.686618    11.812487     8.847865     7.965467  6081.322075   \n",
       "\n",
       "                pp     ent            c            w            s  \\\n",
       "count  4000.000000  4000.0  4000.000000  4000.000000  4000.000000   \n",
       "mean     11.256033    -inf     0.525526     0.124216    -0.011612   \n",
       "std       2.803412     NaN     0.020292     0.022874     0.066601   \n",
       "min       6.946753    -inf     0.500020     0.057783    -0.521955   \n",
       "25%       9.334201    -inf     0.509511     0.110620    -0.040097   \n",
       "50%      10.244030    -inf     0.520910     0.129255    -0.006344   \n",
       "75%      11.963292    -inf     0.536228     0.142443     0.026309   \n",
       "max      24.814650    -inf     0.609122     0.167218     0.240148   \n",
       "\n",
       "               pvf            en           psd        ladle  \n",
       "count  4000.000000  4.000000e+03   4000.000000  4000.000000  \n",
       "mean   1006.224766  3.011525e+07   7352.356691     1.500000  \n",
       "std     346.097349  3.374455e+06    823.841469     1.118174  \n",
       "min     353.920832  1.902672e+07   4645.195069     0.000000  \n",
       "25%     739.166778  2.880240e+07   7031.835044     0.750000  \n",
       "50%     920.161462  3.003203e+07   7332.037403     1.500000  \n",
       "75%    1334.807355  3.118449e+07   7613.400571     2.250000  \n",
       "max    2607.100136  5.855403e+07  14295.418154     3.000000  "
      ]
     },
     "execution_count": 31,
     "metadata": {},
     "output_type": "execute_result"
    }
   ],
   "source": [
    "df_train_factor.describe()"
   ]
  },
  {
   "cell_type": "code",
   "execution_count": 32,
   "metadata": {},
   "outputs": [],
   "source": [
    "# 这里以著名的Iris数据集为例\n",
    "x = df_train_factor.loc[:,['mean_values', 'max_values','min_values', 'rms', 'var', 'pvt', 'kurt', 'l','i','li','pp','c','w','s','pvf','en','psd']].values\n",
    "# x= df_train_factor.loc[:,['shape_v','impulse_factor','crest_v']]\n",
    "\n",
    "\n",
    "y = df_train_factor.loc[:,'ladle'].values"
   ]
  },
  {
   "cell_type": "code",
   "execution_count": 33,
   "metadata": {},
   "outputs": [],
   "source": [
    "scaler = MinMaxScaler()"
   ]
  },
  {
   "cell_type": "code",
   "execution_count": 34,
   "metadata": {},
   "outputs": [],
   "source": [
    "x_ = scaler.fit_transform(x)"
   ]
  },
  {
   "cell_type": "code",
   "execution_count": 35,
   "metadata": {},
   "outputs": [
    {
     "data": {
      "text/plain": [
       "array([[0.48258477, 0.24883201, 0.75111501, ..., 0.29412351, 0.25558557,\n",
       "        0.25558557],\n",
       "       [0.48027241, 0.6213959 , 0.46403834, ..., 0.21291635, 0.32164076,\n",
       "        0.32164076],\n",
       "       [0.47425088, 0.6213959 , 0.35475173, ..., 0.21617439, 0.39680339,\n",
       "        0.39680339],\n",
       "       ...,\n",
       "       [0.4660869 , 0.13192296, 0.90783529, ..., 0.46691571, 0.25221598,\n",
       "        0.25221598],\n",
       "       [0.45951943, 0.12728369, 0.90783529, ..., 0.45011844, 0.25408628,\n",
       "        0.25408628],\n",
       "       [0.46487153, 0.12728369, 0.90783529, ..., 0.45977372, 0.25043982,\n",
       "        0.25043982]])"
      ]
     },
     "execution_count": 35,
     "metadata": {},
     "output_type": "execute_result"
    }
   ],
   "source": [
    "x_"
   ]
  },
  {
   "cell_type": "code",
   "execution_count": null,
   "metadata": {},
   "outputs": [],
   "source": []
  },
  {
   "cell_type": "code",
   "execution_count": 36,
   "metadata": {},
   "outputs": [],
   "source": [
    "\n",
    "# 划分训练集和测试集\n",
    "X_train, X_test, y_train, y_test = train_test_split(x_, y, test_size=0.3, random_state=42)"
   ]
  },
  {
   "cell_type": "code",
   "execution_count": 54,
   "metadata": {},
   "outputs": [
    {
     "name": "stdout",
     "output_type": "stream",
     "text": [
      "准确率: 0.82\n"
     ]
    }
   ],
   "source": [
    "# 创建随机森林分类器实例\n",
    "clf = RandomForestClassifier(n_estimators=10, random_state=42,max_depth=4)\n",
    "# 训练模型\n",
    "clf.fit(X_train, y_train)\n",
    "# 使用测试集进行预测\n",
    "y_pred = clf.predict(X_test)\n",
    "\n",
    "# 计算并打印准确率\n",
    "accuracy = accuracy_score(y_test, y_pred)\n",
    "print(f'准确率: {accuracy:.2f}')"
   ]
  },
  {
   "cell_type": "code",
   "execution_count": 55,
   "metadata": {},
   "outputs": [
    {
     "name": "stdout",
     "output_type": "stream",
     "text": [
      "              precision    recall  f1-score   support\n",
      "\n",
      "           0       0.85      0.71      0.77       315\n",
      "           1       0.69      0.92      0.78       307\n",
      "           2       0.82      0.65      0.73       294\n",
      "           3       0.97      1.00      0.98       284\n",
      "\n",
      "    accuracy                           0.82      1200\n",
      "   macro avg       0.83      0.82      0.82      1200\n",
      "weighted avg       0.83      0.82      0.82      1200\n",
      "\n"
     ]
    }
   ],
   "source": [
    "print(classification_report(y_test, y_pred))"
   ]
  },
  {
   "cell_type": "code",
   "execution_count": 38,
   "metadata": {},
   "outputs": [],
   "source": [
    "## 加载测试集数据\n",
    "df_test= pd.read_excel('../testData.xlsx',engine='openpyxl')"
   ]
  },
  {
   "cell_type": "code",
   "execution_count": 39,
   "metadata": {},
   "outputs": [],
   "source": [
    "test_data= getTimeStatic(df_test.iloc[:,0:4096].values)\n",
    "df_test_=pd.DataFrame(data=test_data,columns=['mean_values', 'max_values','min_values', 'rms', 'var', 'pvt', 'kurt', 'l','i','li','pp','ent','c','w','s','pvf','en','psd'])"
   ]
  },
  {
   "cell_type": "code",
   "execution_count": 57,
   "metadata": {},
   "outputs": [],
   "source": [
    "df_test_.to_excel('./data/test_new_factor.xlsx',index=False)"
   ]
  },
  {
   "cell_type": "code",
   "execution_count": 40,
   "metadata": {},
   "outputs": [],
   "source": [
    "X_input=df_test_.loc[:,['mean_values', 'max_values','min_values', 'rms', 'var', 'pvt', 'kurt', 'l','i','li','pp','c','w','s','pvf','en','psd']].values"
   ]
  },
  {
   "cell_type": "code",
   "execution_count": 41,
   "metadata": {},
   "outputs": [],
   "source": [
    "x_input_=scaler.transform(X_input)"
   ]
  },
  {
   "cell_type": "code",
   "execution_count": 51,
   "metadata": {},
   "outputs": [],
   "source": [
    "Y_test=clf.predict(x_input_)"
   ]
  },
  {
   "cell_type": "code",
   "execution_count": 52,
   "metadata": {},
   "outputs": [],
   "source": [
    "save_df=pd.DataFrame(Y_test)"
   ]
  },
  {
   "cell_type": "code",
   "execution_count": 53,
   "metadata": {},
   "outputs": [
    {
     "data": {
      "text/plain": [
       "2    1291\n",
       "1     329\n",
       "0     311\n",
       "3      69\n",
       "Name: 0, dtype: int64"
      ]
     },
     "execution_count": 53,
     "metadata": {},
     "output_type": "execute_result"
    }
   ],
   "source": [
    "save_df[0].value_counts()"
   ]
  },
  {
   "cell_type": "code",
   "execution_count": 45,
   "metadata": {},
   "outputs": [],
   "source": [
    "save_df.to_csv('./data/result10.csv',index=False)"
   ]
  },
  {
   "cell_type": "code",
   "execution_count": null,
   "metadata": {},
   "outputs": [],
   "source": []
  }
 ],
 "metadata": {
  "kernelspec": {
   "display_name": "myenv",
   "language": "python",
   "name": "python3"
  },
  "language_info": {
   "codemirror_mode": {
    "name": "ipython",
    "version": 3
   },
   "file_extension": ".py",
   "mimetype": "text/x-python",
   "name": "python",
   "nbconvert_exporter": "python",
   "pygments_lexer": "ipython3",
   "version": "3.6.8"
  },
  "orig_nbformat": 4
 },
 "nbformat": 4,
 "nbformat_minor": 2
}
